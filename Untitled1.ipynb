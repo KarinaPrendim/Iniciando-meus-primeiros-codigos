{
  "nbformat": 4,
  "nbformat_minor": 0,
  "metadata": {
    "colab": {
      "provenance": [],
      "collapsed_sections": [],
      "authorship_tag": "ABX9TyOkvE3Sa6PlXfprZcJK96X7",
      "include_colab_link": true
    },
    "kernelspec": {
      "name": "python3",
      "display_name": "Python 3"
    },
    "language_info": {
      "name": "python"
    }
  },
  "cells": [
    {
      "cell_type": "markdown",
      "metadata": {
        "id": "view-in-github",
        "colab_type": "text"
      },
      "source": [
        "<a href=\"https://colab.research.google.com/github/KarinaPrendim/Iniciando-meus-primeiros-codigos/blob/main/Untitled1.ipynb\" target=\"_parent\"><img src=\"https://colab.research.google.com/assets/colab-badge.svg\" alt=\"Open In Colab\"/></a>"
      ]
    },
    {
      "cell_type": "code",
      "execution_count": null,
      "metadata": {
        "id": "lkoYOgCsMEhk"
      },
      "outputs": [],
      "source": []
    },
    {
      "cell_type": "markdown",
      "source": [
        "#Exercicios"
      ],
      "metadata": {
        "id": "RESsUMUjMImh"
      }
    },
    {
      "cell_type": "code",
      "source": [
        "print ('Olá mundo!')"
      ],
      "metadata": {
        "colab": {
          "base_uri": "https://localhost:8080/"
        },
        "id": "HeCfh1ccMLtx",
        "outputId": "a1fcdcf4-da13-4437-a81c-50ae7105a823"
      },
      "execution_count": null,
      "outputs": [
        {
          "output_type": "stream",
          "name": "stdout",
          "text": [
            "Olá mundo!\n"
          ]
        }
      ]
    },
    {
      "cell_type": "code",
      "source": [
        "2+5"
      ],
      "metadata": {
        "colab": {
          "base_uri": "https://localhost:8080/"
        },
        "id": "529IIKAgMPyZ",
        "outputId": "381338a1-3908-43e7-e9d4-f019ad5414bc"
      },
      "execution_count": null,
      "outputs": [
        {
          "output_type": "execute_result",
          "data": {
            "text/plain": [
              "7"
            ]
          },
          "metadata": {},
          "execution_count": 2
        }
      ]
    },
    {
      "cell_type": "code",
      "source": [
        "import this"
      ],
      "metadata": {
        "colab": {
          "base_uri": "https://localhost:8080/"
        },
        "id": "mSzGy6E6Mc8P",
        "outputId": "b76eb736-9d68-4087-c07f-93ca298fb8e8"
      },
      "execution_count": null,
      "outputs": [
        {
          "output_type": "stream",
          "name": "stdout",
          "text": [
            "The Zen of Python, by Tim Peters\n",
            "\n",
            "Beautiful is better than ugly.\n",
            "Explicit is better than implicit.\n",
            "Simple is better than complex.\n",
            "Complex is better than complicated.\n",
            "Flat is better than nested.\n",
            "Sparse is better than dense.\n",
            "Readability counts.\n",
            "Special cases aren't special enough to break the rules.\n",
            "Although practicality beats purity.\n",
            "Errors should never pass silently.\n",
            "Unless explicitly silenced.\n",
            "In the face of ambiguity, refuse the temptation to guess.\n",
            "There should be one-- and preferably only one --obvious way to do it.\n",
            "Although that way may not be obvious at first unless you're Dutch.\n",
            "Now is better than never.\n",
            "Although never is often better than *right* now.\n",
            "If the implementation is hard to explain, it's a bad idea.\n",
            "If the implementation is easy to explain, it may be a good idea.\n",
            "Namespaces are one honking great idea -- let's do more of those!\n"
          ]
        }
      ]
    },
    {
      "cell_type": "code",
      "source": [
        "print ('Estou aprendendo Phyton!')"
      ],
      "metadata": {
        "colab": {
          "base_uri": "https://localhost:8080/"
        },
        "id": "csmA_411Mkbx",
        "outputId": "82c2d66e-309a-4fa6-88ac-fb6faa10a543"
      },
      "execution_count": null,
      "outputs": [
        {
          "output_type": "stream",
          "name": "stdout",
          "text": [
            "Estou aprendendo Phyton!\n"
          ]
        }
      ]
    },
    {
      "cell_type": "code",
      "source": [
        "print (4+20)"
      ],
      "metadata": {
        "colab": {
          "base_uri": "https://localhost:8080/"
        },
        "id": "E2P2UnQoNRwJ",
        "outputId": "c7e4b77e-77b7-4018-daa8-610cc144ce70"
      },
      "execution_count": null,
      "outputs": [
        {
          "output_type": "stream",
          "name": "stdout",
          "text": [
            "24\n"
          ]
        }
      ]
    },
    {
      "cell_type": "code",
      "source": [],
      "metadata": {
        "id": "6c8VQrjwO4y4"
      },
      "execution_count": null,
      "outputs": []
    },
    {
      "cell_type": "markdown",
      "source": [
        "#Variaveis"
      ],
      "metadata": {
        "id": "XXAQh6OqPVdx"
      }
    },
    {
      "cell_type": "code",
      "source": [
        "nome = 'Karina'\n",
        "idade = 42\n",
        "peso = 65.4\n",
        "print (nome, idade, peso)"
      ],
      "metadata": {
        "colab": {
          "base_uri": "https://localhost:8080/"
        },
        "id": "iK7305uCPXgX",
        "outputId": "0b349044-79ea-4eab-e892-f2c7fa31bf52"
      },
      "execution_count": null,
      "outputs": [
        {
          "output_type": "stream",
          "name": "stdout",
          "text": [
            "Karina 42 65.4\n"
          ]
        }
      ]
    },
    {
      "cell_type": "markdown",
      "source": [
        "#Variaveis"
      ],
      "metadata": {
        "id": "CIiOtqaGRQAO"
      }
    },
    {
      "cell_type": "code",
      "source": [
        "nome = input('Qual é o seu nome?')"
      ],
      "metadata": {
        "colab": {
          "base_uri": "https://localhost:8080/"
        },
        "id": "yIsoBuQRRSpB",
        "outputId": "f9e9fae2-0ed0-4161-9c5a-ebc6f390addd"
      },
      "execution_count": null,
      "outputs": [
        {
          "name": "stdout",
          "output_type": "stream",
          "text": [
            "Qual é o seu nome?Karina\n"
          ]
        }
      ]
    },
    {
      "cell_type": "code",
      "source": [
        "idade = input('Quantos anos você tem?')"
      ],
      "metadata": {
        "colab": {
          "base_uri": "https://localhost:8080/"
        },
        "id": "LVAQsarxRfe5",
        "outputId": "e99e90e7-aba4-43a4-c90c-d151dcf01355"
      },
      "execution_count": null,
      "outputs": [
        {
          "name": "stdout",
          "output_type": "stream",
          "text": [
            "Quantos anos você tem?42\n"
          ]
        }
      ]
    },
    {
      "cell_type": "code",
      "source": [
        "peso = input('Qual seu peso?')"
      ],
      "metadata": {
        "colab": {
          "base_uri": "https://localhost:8080/"
        },
        "id": "s3JHCv_rRrlN",
        "outputId": "7f66a5f2-8b99-4813-943c-ba523e5f84fb"
      },
      "execution_count": null,
      "outputs": [
        {
          "name": "stdout",
          "output_type": "stream",
          "text": [
            "Qual seu peso?60\n"
          ]
        }
      ]
    },
    {
      "cell_type": "code",
      "source": [
        "print (nome, idade, peso)"
      ],
      "metadata": {
        "colab": {
          "base_uri": "https://localhost:8080/"
        },
        "id": "_ajnn-h0UPJS",
        "outputId": "7043a805-0576-43b1-eeed-0f62388221a4"
      },
      "execution_count": null,
      "outputs": [
        {
          "output_type": "stream",
          "name": "stdout",
          "text": [
            "Karina 42 60\n"
          ]
        }
      ]
    },
    {
      "cell_type": "markdown",
      "source": [
        "#Teste 01"
      ],
      "metadata": {
        "id": "cM6MYbBOWK0n"
      }
    },
    {
      "cell_type": "code",
      "source": [
        "nome = input('Qual é o seu nome?')"
      ],
      "metadata": {
        "colab": {
          "base_uri": "https://localhost:8080/"
        },
        "id": "AR9phizRW2r7",
        "outputId": "72001d29-1934-442f-f025-d4b7312d7405"
      },
      "execution_count": null,
      "outputs": [
        {
          "name": "stdout",
          "output_type": "stream",
          "text": [
            "Qual é o seu nome? Maria\n"
          ]
        }
      ]
    },
    {
      "cell_type": "code",
      "source": [
        "print ('Olá Maria, seja bem vinda!')"
      ],
      "metadata": {
        "colab": {
          "base_uri": "https://localhost:8080/"
        },
        "id": "NvQeSCtvW-Fw",
        "outputId": "e2aabb15-8be8-4ee6-dee2-3c71c35dea16"
      },
      "execution_count": null,
      "outputs": [
        {
          "output_type": "stream",
          "name": "stdout",
          "text": [
            "Olá Maria, seja bem vinda!\n"
          ]
        }
      ]
    },
    {
      "cell_type": "code",
      "source": [
        "dia = input('Qual o dia do seu aniverssario?')\n",
        "mês = input('Qual o mês do seu aniverssario?')\n",
        "nome = input('Qual seu nome para finalizarmos?')\n",
        "print ('Olá', nome, dia, mês,)"
      ],
      "metadata": {
        "colab": {
          "base_uri": "https://localhost:8080/"
        },
        "id": "yeqCJWeOXQLs",
        "outputId": "0fe96d17-1458-4601-a353-03017b3c4a9c"
      },
      "execution_count": null,
      "outputs": [
        {
          "output_type": "stream",
          "name": "stdout",
          "text": [
            "Qual o dia do seu aniverssario? 25\n",
            "Qual o mês do seu aniverssario?08\n",
            "Qual seu nome para finalizarmos?Maria\n",
            "Olá Maria  25 08\n"
          ]
        }
      ]
    },
    {
      "cell_type": "code",
      "source": [],
      "metadata": {
        "id": "lSvML3z2ZN-P"
      },
      "execution_count": null,
      "outputs": []
    },
    {
      "cell_type": "markdown",
      "source": [
        "#Teste 02"
      ],
      "metadata": {
        "id": "zkzu9AUmZbH4"
      }
    },
    {
      "cell_type": "code",
      "source": [
        "nome = input('Qual seu nome completo?')"
      ],
      "metadata": {
        "colab": {
          "base_uri": "https://localhost:8080/"
        },
        "id": "EZkVmtwSZej2",
        "outputId": "a1e8dca8-0169-4d40-dc88-246c74a2ec54"
      },
      "execution_count": null,
      "outputs": [
        {
          "name": "stdout",
          "output_type": "stream",
          "text": [
            "Qual seu nome completo?Karina da Silva\n"
          ]
        }
      ]
    },
    {
      "cell_type": "code",
      "source": [
        "idade = input('Qual sua idade?')"
      ],
      "metadata": {
        "colab": {
          "base_uri": "https://localhost:8080/"
        },
        "id": "eAQZKPivZoX6",
        "outputId": "c5a59d33-c3ee-40fd-efaf-f8d7ae1a1057"
      },
      "execution_count": null,
      "outputs": [
        {
          "name": "stdout",
          "output_type": "stream",
          "text": [
            "Qual sua idade?35\n"
          ]
        }
      ]
    },
    {
      "cell_type": "code",
      "source": [
        "print ('Olá', nome)"
      ],
      "metadata": {
        "colab": {
          "base_uri": "https://localhost:8080/"
        },
        "id": "9QORi2axZxSN",
        "outputId": "ebb902ea-1088-40d6-8371-fdc340a75f9c"
      },
      "execution_count": null,
      "outputs": [
        {
          "output_type": "stream",
          "name": "stdout",
          "text": [
            "Olá Karina da Silva\n"
          ]
        }
      ]
    },
    {
      "cell_type": "code",
      "source": [
        "8+10"
      ],
      "metadata": {
        "colab": {
          "base_uri": "https://localhost:8080/"
        },
        "id": "M_vq7LBLZ-no",
        "outputId": "caee8ebd-b299-434a-fb71-dfbefc99bf71"
      },
      "execution_count": null,
      "outputs": [
        {
          "output_type": "execute_result",
          "data": {
            "text/plain": [
              "18"
            ]
          },
          "metadata": {},
          "execution_count": 12
        }
      ]
    },
    {
      "cell_type": "code",
      "source": [
        "1000+3400"
      ],
      "metadata": {
        "id": "jWeVua7eaZ8h",
        "outputId": "752e5833-8954-492c-b1d0-5576a2622f34",
        "colab": {
          "base_uri": "https://localhost:8080/"
        }
      },
      "execution_count": null,
      "outputs": [
        {
          "output_type": "execute_result",
          "data": {
            "text/plain": [
              "4400"
            ]
          },
          "metadata": {},
          "execution_count": 13
        }
      ]
    },
    {
      "cell_type": "code",
      "source": [],
      "metadata": {
        "id": "S946X3j_acfn"
      },
      "execution_count": null,
      "outputs": []
    }
  ]
}